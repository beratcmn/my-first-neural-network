{
 "cells": [
  {
   "cell_type": "markdown",
   "metadata": {},
   "source": [
    "All the credits goes to Sebastian Lague.\n",
    "[His video](https://www.youtube.com/watch?v=hfMk-kjRv4c&t=189s&ab_channel=SebastianLague)"
   ]
  },
  {
   "cell_type": "markdown",
   "metadata": {},
   "source": [
    "# General Idea\n",
    "\n",
    "### We are trying to understand if an imaginary fruit is poisonous or not by their spike and spot sizes.\n",
    "\n",
    "### There will be 2 inputs for spike and spot and 2 outputs poisonous or non-poisonous\n",
    "\n",
    "### If output1 > output2 then its non-poisonous otherwise its poisonous\n",
    "\n",
    "<!-- ![](../assets/ss-1.png) -->"
   ]
  },
  {
   "cell_type": "markdown",
   "metadata": {},
   "source": [
    "## First we are trying to create a simple network as shown below\n",
    "\n",
    "<img src=\"../assets/ss-1.png\" height=\"300\">"
   ]
  },
  {
   "cell_type": "code",
   "execution_count": 4,
   "metadata": {},
   "outputs": [],
   "source": [
    "# Weight values connect each input to each output.\n",
    "weight_1_1: float\n",
    "weight_2_1: float\n",
    "\n",
    "weight_1_2: float\n",
    "weight_2_2: float\n",
    "\n",
    "# Bias values\n",
    "bias_1: float\n",
    "bias_2: float\n",
    "\n",
    "\n",
    "def Classify(input_1: float, input_2: float) -> int:\n",
    "    global weight_1_1\n",
    "    global weight_2_1\n",
    "    global weight_1_2\n",
    "    global weight_2_2\n",
    "    global bias_1\n",
    "    global bias_2\n",
    "\n",
    "    output_1: float = (input_1 * weight_1_1) + (input_2 * weight_2_1) + bias_1\n",
    "    output_2: float = (input_1 * weight_1_2) + (input_2 * weight_2_2) + bias_2\n",
    "\n",
    "    return 0 if output_1 > output_2 else 1\n"
   ]
  },
  {
   "cell_type": "markdown",
   "metadata": {},
   "source": [
    "## Structure of Hidden Layers\n",
    "\n",
    "<img src=\"../assets/ss-2.png\" height=\"300\">"
   ]
  },
  {
   "cell_type": "code",
   "execution_count": 7,
   "metadata": {},
   "outputs": [],
   "source": [
    "from dataclasses import dataclass\n",
    "from typing import List\n",
    "\n",
    "\n",
    "@dataclass\n",
    "class Layer:\n",
    "    numNodesIn: int\n",
    "    numNodesOut: int\n",
    "    weights: List[List[float]]\n",
    "    biases: List[float]\n",
    "\n",
    "    def CalculateOutputs(self, inputs: List[float]) -> List[float]:\n",
    "        weightedOutputs: List[float]\n",
    "\n",
    "        for nodeOut in range(self.numNodesOut):\n",
    "            weightedInputs = self.biases[nodeOut]\n",
    "\n",
    "            for nodeIn in range(self.numNodesIn):\n",
    "                weightedInputs += inputs[nodeIn] * self.weights[nodeIn][nodeOut]\n",
    "\n",
    "            weightedInputs[nodeOut] = weightedInputs\n",
    "\n",
    "        return weightedInputs\n"
   ]
  }
 ],
 "metadata": {
  "kernelspec": {
   "display_name": "Python 3.10.7 64-bit (microsoft store)",
   "language": "python",
   "name": "python3"
  },
  "language_info": {
   "codemirror_mode": {
    "name": "ipython",
    "version": 3
   },
   "file_extension": ".py",
   "mimetype": "text/x-python",
   "name": "python",
   "nbconvert_exporter": "python",
   "pygments_lexer": "ipython3",
   "version": "3.10.7"
  },
  "orig_nbformat": 4,
  "vscode": {
   "interpreter": {
    "hash": "4ade315754926e2c3d827317f9cd6119de7b7120adac45a7f1acd066b77a14e4"
   }
  }
 },
 "nbformat": 4,
 "nbformat_minor": 2
}
